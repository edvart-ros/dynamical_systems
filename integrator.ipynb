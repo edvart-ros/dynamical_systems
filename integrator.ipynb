{
 "cells": [
  {
   "cell_type": "code",
   "execution_count": null,
   "metadata": {},
   "outputs": [],
   "source": [
    "import numpy as np\n",
    "import matplotlib.pyplot as plt"
   ]
  },
  {
   "cell_type": "code",
   "execution_count": null,
   "metadata": {},
   "outputs": [],
   "source": [
    "def f(x):\n",
    "    return x*(1-x)\n",
    "\n",
    "def rk4(f, x0, dt):\n",
    "    k1 = f(x0)*dt\n",
    "    k2 = f(x0+(1/2)*k1)*dt\n",
    "    k3 = f(x0+(1/2)*k2)*dt\n",
    "    k4 = f(x0+k3)*dt\n",
    "\n",
    "    x_1 = x0 + (1/6)*(k1+2*k2+2*k3+k4)\n",
    "\n"
   ]
  },
  {
   "cell_type": "code",
   "execution_count": null,
   "metadata": {},
   "outputs": [],
   "source": [
    "x0 = 0\n",
    "dt = 0.1\n",
    "\n",
    "t = np.arange(0, 100, dt)\n"
   ]
  }
 ],
 "metadata": {
  "language_info": {
   "name": "python"
  },
  "orig_nbformat": 4
 },
 "nbformat": 4,
 "nbformat_minor": 2
}
